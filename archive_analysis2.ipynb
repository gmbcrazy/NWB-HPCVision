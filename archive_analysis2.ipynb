{
 "cells": [
  {
   "cell_type": "code",
   "execution_count": 1,
   "id": "c9888113-0dfd-456d-bf5b-8918e750bbba",
   "metadata": {},
   "outputs": [],
   "source": [
    "import requests\n",
    "import pandas as pd\n",
    "import matplotlib.pyplot as plt\n",
    "import numpy as np\n",
    "from datetime import datetime\n",
    "from bisect import bisect\n",
    "import seaborn as sns\n",
    "from tqdm import tqdm\n",
    "\n",
    "from dandi.dandiapi import DandiAPIClient\n",
    "from collections import defaultdict"
   ]
  },
  {
   "cell_type": "code",
   "execution_count": 10,
   "id": "fd415e8b-4223-4868-9341-6987f3ad4530",
   "metadata": {},
   "outputs": [
    {
     "name": "stderr",
     "output_type": "stream",
     "text": [
      "100%|██████████| 191/191 [00:21<00:00,  9.00it/s]\n"
     ]
    },
    {
     "data": {
      "text/html": [
       "<div>\n",
       "<style scoped>\n",
       "    .dataframe tbody tr th:only-of-type {\n",
       "        vertical-align: middle;\n",
       "    }\n",
       "\n",
       "    .dataframe tbody tr th {\n",
       "        vertical-align: top;\n",
       "    }\n",
       "\n",
       "    .dataframe thead th {\n",
       "        text-align: right;\n",
       "    }\n",
       "</style>\n",
       "<table border=\"1\" class=\"dataframe\">\n",
       "  <thead>\n",
       "    <tr style=\"text-align: right;\">\n",
       "      <th></th>\n",
       "      <th>identifier</th>\n",
       "      <th>created</th>\n",
       "      <th>size</th>\n",
       "      <th>species</th>\n",
       "      <th>ecephys</th>\n",
       "      <th>ophys</th>\n",
       "      <th>icephys</th>\n",
       "      <th>numberOfSubjects</th>\n",
       "      <th>numberOfFiles</th>\n",
       "      <th>has_related_pub</th>\n",
       "    </tr>\n",
       "  </thead>\n",
       "  <tbody>\n",
       "    <tr>\n",
       "      <th>0</th>\n",
       "      <td>000003</td>\n",
       "      <td>2020-03-15 22:56:55.655000+00:00</td>\n",
       "      <td>2559248010229</td>\n",
       "      <td>House mouse</td>\n",
       "      <td>True</td>\n",
       "      <td>False</td>\n",
       "      <td>False</td>\n",
       "      <td>16.0</td>\n",
       "      <td>101</td>\n",
       "      <td>True</td>\n",
       "    </tr>\n",
       "    <tr>\n",
       "      <th>1</th>\n",
       "      <td>000004</td>\n",
       "      <td>2020-03-16 21:48:04.265000+00:00</td>\n",
       "      <td>6197474020</td>\n",
       "      <td>Human</td>\n",
       "      <td>True</td>\n",
       "      <td>False</td>\n",
       "      <td>False</td>\n",
       "      <td>59.0</td>\n",
       "      <td>87</td>\n",
       "      <td>True</td>\n",
       "    </tr>\n",
       "    <tr>\n",
       "      <th>2</th>\n",
       "      <td>000005</td>\n",
       "      <td>2020-03-16 22:52:44.757000+00:00</td>\n",
       "      <td>46436686324</td>\n",
       "      <td>House mouse</td>\n",
       "      <td>True</td>\n",
       "      <td>False</td>\n",
       "      <td>True</td>\n",
       "      <td>55.0</td>\n",
       "      <td>148</td>\n",
       "      <td>True</td>\n",
       "    </tr>\n",
       "    <tr>\n",
       "      <th>3</th>\n",
       "      <td>000006</td>\n",
       "      <td>2020-03-17 13:30:38.667000+00:00</td>\n",
       "      <td>139600500</td>\n",
       "      <td>House mouse</td>\n",
       "      <td>True</td>\n",
       "      <td>False</td>\n",
       "      <td>False</td>\n",
       "      <td>12.0</td>\n",
       "      <td>53</td>\n",
       "      <td>True</td>\n",
       "    </tr>\n",
       "    <tr>\n",
       "      <th>4</th>\n",
       "      <td>000007</td>\n",
       "      <td>2020-03-17 15:01:40.811000+00:00</td>\n",
       "      <td>199439472</td>\n",
       "      <td>House mouse</td>\n",
       "      <td>True</td>\n",
       "      <td>False</td>\n",
       "      <td>False</td>\n",
       "      <td>13.0</td>\n",
       "      <td>54</td>\n",
       "      <td>True</td>\n",
       "    </tr>\n",
       "    <tr>\n",
       "      <th>...</th>\n",
       "      <td>...</td>\n",
       "      <td>...</td>\n",
       "      <td>...</td>\n",
       "      <td>...</td>\n",
       "      <td>...</td>\n",
       "      <td>...</td>\n",
       "      <td>...</td>\n",
       "      <td>...</td>\n",
       "      <td>...</td>\n",
       "      <td>...</td>\n",
       "    </tr>\n",
       "    <tr>\n",
       "      <th>103</th>\n",
       "      <td>000297</td>\n",
       "      <td>2022-07-26 00:46:20.877977+00:00</td>\n",
       "      <td>231099211</td>\n",
       "      <td>Human</td>\n",
       "      <td>False</td>\n",
       "      <td>False</td>\n",
       "      <td>True</td>\n",
       "      <td>197.0</td>\n",
       "      <td>118</td>\n",
       "      <td>False</td>\n",
       "    </tr>\n",
       "    <tr>\n",
       "      <th>104</th>\n",
       "      <td>000299</td>\n",
       "      <td>2022-07-28 18:27:25.144853+00:00</td>\n",
       "      <td>232448</td>\n",
       "      <td>Rat</td>\n",
       "      <td>True</td>\n",
       "      <td>False</td>\n",
       "      <td>False</td>\n",
       "      <td>1.0</td>\n",
       "      <td>1</td>\n",
       "      <td>False</td>\n",
       "    </tr>\n",
       "    <tr>\n",
       "      <th>105</th>\n",
       "      <td>000301</td>\n",
       "      <td>2022-08-30 15:42:02.261574+00:00</td>\n",
       "      <td>29683186079</td>\n",
       "      <td>House mouse</td>\n",
       "      <td>True</td>\n",
       "      <td>False</td>\n",
       "      <td>False</td>\n",
       "      <td>14.0</td>\n",
       "      <td>14</td>\n",
       "      <td>False</td>\n",
       "    </tr>\n",
       "    <tr>\n",
       "      <th>106</th>\n",
       "      <td>000337</td>\n",
       "      <td>2022-09-18 05:53:58.949542+00:00</td>\n",
       "      <td>1532057791</td>\n",
       "      <td>Human</td>\n",
       "      <td>False</td>\n",
       "      <td>False</td>\n",
       "      <td>True</td>\n",
       "      <td>12.0</td>\n",
       "      <td>21</td>\n",
       "      <td>False</td>\n",
       "    </tr>\n",
       "    <tr>\n",
       "      <th>107</th>\n",
       "      <td>000341</td>\n",
       "      <td>2022-09-29 09:00:51.120962+00:00</td>\n",
       "      <td>57296419912</td>\n",
       "      <td>Human</td>\n",
       "      <td>False</td>\n",
       "      <td>False</td>\n",
       "      <td>True</td>\n",
       "      <td>19.0</td>\n",
       "      <td>105</td>\n",
       "      <td>False</td>\n",
       "    </tr>\n",
       "  </tbody>\n",
       "</table>\n",
       "<p>108 rows × 10 columns</p>\n",
       "</div>"
      ],
      "text/plain": [
       "    identifier                          created           size      species  \\\n",
       "0       000003 2020-03-15 22:56:55.655000+00:00  2559248010229  House mouse   \n",
       "1       000004 2020-03-16 21:48:04.265000+00:00     6197474020        Human   \n",
       "2       000005 2020-03-16 22:52:44.757000+00:00    46436686324  House mouse   \n",
       "3       000006 2020-03-17 13:30:38.667000+00:00      139600500  House mouse   \n",
       "4       000007 2020-03-17 15:01:40.811000+00:00      199439472  House mouse   \n",
       "..         ...                              ...            ...          ...   \n",
       "103     000297 2022-07-26 00:46:20.877977+00:00      231099211        Human   \n",
       "104     000299 2022-07-28 18:27:25.144853+00:00         232448          Rat   \n",
       "105     000301 2022-08-30 15:42:02.261574+00:00    29683186079  House mouse   \n",
       "106     000337 2022-09-18 05:53:58.949542+00:00     1532057791        Human   \n",
       "107     000341 2022-09-29 09:00:51.120962+00:00    57296419912        Human   \n",
       "\n",
       "     ecephys  ophys  icephys  numberOfSubjects  numberOfFiles  has_related_pub  \n",
       "0       True  False    False              16.0            101             True  \n",
       "1       True  False    False              59.0             87             True  \n",
       "2       True  False     True              55.0            148             True  \n",
       "3       True  False    False              12.0             53             True  \n",
       "4       True  False    False              13.0             54             True  \n",
       "..       ...    ...      ...               ...            ...              ...  \n",
       "103    False  False     True             197.0            118            False  \n",
       "104     True  False    False               1.0              1            False  \n",
       "105     True  False    False              14.0             14            False  \n",
       "106    False  False     True              12.0             21            False  \n",
       "107    False  False     True              19.0            105            False  \n",
       "\n",
       "[108 rows x 10 columns]"
      ]
     },
     "execution_count": 10,
     "metadata": {},
     "output_type": "execute_result"
    }
   ],
   "source": [
    "client = DandiAPIClient()\n",
    "\n",
    "dandisets = list(client.get_dandisets())\n",
    "\n",
    "neurodata_type_map = dict(\n",
    "    ecephys=[\"LFP\", \"Units\", \"ElectricalSeries\"],\n",
    "    ophys=[\"PlaneSegmentation\", \"TwoPhotonSeries\", \"ImageSegmentation\"],\n",
    "    icephys=[\n",
    "        \"PatchClampSeries\",\n",
    "        \"VoltageClampSeries\",\n",
    "        \"CurrentClampSeries\",\n",
    "        \"CurrentClampStimulusSeries\",\n",
    "    ],\n",
    ")\n",
    "\n",
    "def is_nwb(metadata):\n",
    "    return any(\n",
    "        x['identifier'] == 'RRID:SCR_015242'\n",
    "        for x in metadata['assetsSummary'].get('dataStandard', {})\n",
    "    )\n",
    "\n",
    "def has_related_publication(metadata):\n",
    "    return \"relatedResource\" in metadata and any(x[\"relation\"] == \"dcite:IsDescribedBy\" for x in metadata[\"relatedResource\"])\n",
    "\n",
    "data = defaultdict(list)\n",
    "for dandiset in tqdm(dandisets):\n",
    "    dandiset = dandiset.for_version(\"draft\")\n",
    "    identifier = dandiset.identifier\n",
    "    metadata = dandiset.get_raw_metadata()\n",
    "    \n",
    "    if not is_nwb(metadata) or not dandiset.draft_version.size:\n",
    "        continue\n",
    "    data[\"identifier\"].append(identifier)\n",
    "    data[\"created\"].append(dandiset.created)\n",
    "    data[\"size\"].append(dandiset.draft_version.size)\n",
    "    if \"species\" in metadata[\"assetsSummary\"] and len(metadata[\"assetsSummary\"][\"species\"]):\n",
    "        data[\"species\"].append(metadata[\"assetsSummary\"][\"species\"][0][\"name\"])\n",
    "    else:\n",
    "        data[\"species\"].append(np.nan)\n",
    "    \n",
    "    \n",
    "    for modality, ndtypes in neurodata_type_map.items():\n",
    "        data[modality].append(\n",
    "            any(x in ndtypes for x in metadata[\"assetsSummary\"][\"variableMeasured\"])\n",
    "        )\n",
    "    \n",
    "    data[\"numberOfSubjects\"].append(metadata[\"assetsSummary\"].get(\"numberOfSubjects\", np.nan))\n",
    "    data[\"numberOfFiles\"].append(metadata[\"assetsSummary\"].get(\"numberOfFiles\", np.nan))        \n",
    "    data[\"has_related_pub\"].append(has_related_publication(metadata))\n",
    "    \n",
    "df = pd.DataFrame.from_dict(data)\n",
    "\n",
    "species_replacement = {\n",
    "    \"Mus musculus - House mouse\": \"House mouse\",\n",
    "    \"Rattus norvegicus - Norway rat\": \"Rat\",\n",
    "    \"Brown rat\": \"Rat\",\n",
    "    \"Rat; norway rat; rats; brown rat\": \"Rat\",\n",
    "    \"Homo sapiens - Human\": \"Human\",\n",
    "    \"Drosophila melanogaster - Fruit fly\": \"Fruit fly\",\n",
    "}\n",
    "\n",
    "for key, val in species_replacement.items():\n",
    "    df[\"species\"] = df[\"species\"].replace(key, val)\n",
    "\n",
    "df"
   ]
  },
  {
   "cell_type": "code",
   "execution_count": 11,
   "id": "074fee70-7186-48cb-9d12-579822706659",
   "metadata": {},
   "outputs": [
    {
     "data": {
      "text/plain": [
       "{'id': 'DANDI:000341/draft',\n",
       " 'url': 'https://dandiarchive.org/dandiset/000341/draft',\n",
       " 'name': 'Temporal disparity of action potentials triggered in axon initial segments and distal axons in the neocortex',\n",
       " 'about': [],\n",
       " 'access': [{'status': 'dandi:OpenAccess', 'schemaKey': 'AccessRequirements'}],\n",
       " 'license': ['spdx:CC-BY-4.0'],\n",
       " 'version': 'draft',\n",
       " '@context': 'https://raw.githubusercontent.com/dandi/schema/master/releases/0.6.3/context.json',\n",
       " 'citation': 'Tóth, Martin; Rózsa, Márton (2022) Temporal disparity of action potentials triggered in axon initial segments and distal axons in the neocortex (Version draft) [Data set]. DANDI archive. https://dandiarchive.org/dandiset/000341/draft',\n",
       " 'keywords': ['Layer 1 interneurons',\n",
       "  'human',\n",
       "  'rodent',\n",
       "  'in vitro',\n",
       "  'in vivo',\n",
       "  'Retroaxonal firing',\n",
       "  'Persistent firing',\n",
       "  'Retoaxonal action potentials'],\n",
       " 'protocol': ['https://www.biorxiv.org/content/10.1101/2022.08.09.503303v1'],\n",
       " 'schemaKey': 'Dandiset',\n",
       " 'identifier': 'DANDI:000341',\n",
       " 'repository': 'https://dandiarchive.org',\n",
       " 'contributor': [{'name': 'Tóth, Martin',\n",
       "   'email': 'toh.martin9502@gmail.com',\n",
       "   'roleName': ['dcite:ContactPerson'],\n",
       "   'schemaKey': 'Person',\n",
       "   'affiliation': [],\n",
       "   'includeInCitation': True},\n",
       "  {'name': 'Rózsa, Márton',\n",
       "   'email': 'marton.rozsa@alleninstitute.org ',\n",
       "   'roleName': [],\n",
       "   'schemaKey': 'Person',\n",
       "   'affiliation': [],\n",
       "   'includeInCitation': True}],\n",
       " 'dateCreated': '2022-09-29T09:00:51.120962+00:00',\n",
       " 'description': 'Patch-clamp recordings of Layer 1 interneurons in the human and rodent neocortex. Data comes from Gabor Tamas Lab (ELKH-SZTE Research Group for Cortical Microcircuits; University of Szeged, Hungary).',\n",
       " 'studyTarget': [],\n",
       " 'assetsSummary': {'species': [{'name': 'Homo sapiens - Human',\n",
       "    'schemaKey': 'SpeciesType',\n",
       "    'identifier': 'http://purl.obolibrary.org/obo/NCBITaxon_9606'}],\n",
       "  'approach': [{'name': 'electrophysiological approach',\n",
       "    'schemaKey': 'ApproachType'}],\n",
       "  'schemaKey': 'AssetsSummary',\n",
       "  'dataStandard': [{'name': 'Neurodata Without Borders (NWB)',\n",
       "    'schemaKey': 'StandardsType',\n",
       "    'identifier': 'RRID:SCR_015242'}],\n",
       "  'numberOfBytes': 57296419912,\n",
       "  'numberOfFiles': 105,\n",
       "  'numberOfSubjects': 19,\n",
       "  'variableMeasured': ['CurrentClampStimulusSeries', 'CurrentClampSeries'],\n",
       "  'measurementTechnique': [{'name': 'current clamp technique',\n",
       "    'schemaKey': 'MeasurementTechniqueType'}]},\n",
       " 'schemaVersion': '0.6.3',\n",
       " 'ethicsApproval': [],\n",
       " 'wasGeneratedBy': [],\n",
       " 'relatedResource': [],\n",
       " 'manifestLocation': ['https://api.dandiarchive.org/api/dandisets/000341/versions/draft/assets/']}"
      ]
     },
     "execution_count": 11,
     "metadata": {},
     "output_type": "execute_result"
    }
   ],
   "source": [
    "metadata"
   ]
  },
  {
   "cell_type": "code",
   "execution_count": 4,
   "id": "849f2cd9-d113-47f0-a905-46ba1b5fe665",
   "metadata": {},
   "outputs": [
    {
     "data": {
      "image/png": "[encoded data removed]",
      "text/plain": [
       "<Figure size 216x288 with 1 Axes>"
      ]
     },
     "metadata": {},
     "output_type": "display_data"
    }
   ],
   "source": [
    "sns.set_style(\"whitegrid\")\n",
    "\n",
    "ax = df[\"species\"].value_counts().plot.bar(figsize=(3,4))\n",
    "ax.set_ylabel(\"# of NWB Dandisets\")\n",
    "ax.set_xlabel(\"species\")\n",
    "sns.despine()\n",
    "ax.figure.savefig(\"species.svg\", bbox_inches=\"tight\")"
   ]
  },
  {
   "cell_type": "code",
   "execution_count": 5,
   "id": "f5fd46ab-218b-4a61-9383-96bc58c76edd",
   "metadata": {},
   "outputs": [
    {
     "data": {
      "text/plain": [
       "1      000004\n",
       "9      000012\n",
       "14     000019\n",
       "18     000023\n",
       "35     000051\n",
       "38     000055\n",
       "48     000109\n",
       "60     000142\n",
       "62     000147\n",
       "71     000207\n",
       "72     000209\n",
       "82     000228\n",
       "97     000288\n",
       "99     000293\n",
       "103    000297\n",
       "106    000337\n",
       "Name: identifier, dtype: object"
      ]
     },
     "execution_count": 5,
     "metadata": {},
     "output_type": "execute_result"
    }
   ],
   "source": [
    "df[df[\"species\"] == \"Human\"].identifier"
   ]
  },
  {
   "cell_type": "code",
   "execution_count": 6,
   "id": "2ff15dbe-0bab-4054-84b4-ddf18941daff",
   "metadata": {},
   "outputs": [
    {
     "data": {
      "text/plain": [
       "Text(3.200000000000003, 0.5, '# of NWB Dandisets')"
      ]
     },
     "execution_count": 6,
     "metadata": {},
     "output_type": "execute_result"
    },
    {
     "data": {
      "image/png": "[encoded data removed]",
      "text/plain": [
       "<Figure size 144x288 with 1 Axes>"
      ]
     },
     "metadata": {},
     "output_type": "display_data"
    }
   ],
   "source": [
    "fig, ax = plt.subplots(figsize=(2,4))\n",
    "\n",
    "df[[\"ecephys\", \"ophys\", \"icephys\"]].sum().plot.bar(ax=ax)\n",
    "ax.set_xlabel(\"modality\")\n",
    "ax.figure.savefig(\"modality.svg\", bbox_inches=\"tight\", dpi=300)\n",
    "ax.set_ylabel(\"# of NWB Dandisets\")"
   ]
  },
  {
   "cell_type": "code",
   "execution_count": 7,
   "id": "81d414d4-c31b-43a2-973e-1fe480f453d4",
   "metadata": {},
   "outputs": [
    {
     "data": {
      "image/png": "[encoded data removed]",
      "text/plain": [
       "<Figure size 432x288 with 1 Axes>"
      ]
     },
     "metadata": {},
     "output_type": "display_data"
    }
   ],
   "source": [
    "logsize = np.log10(df[\"size\"])\n",
    "#logsize[logsize < 0] = np.nan\n",
    "\n",
    "ax = logsize.plot.hist(bins=30)\n",
    "ax.set_xticks([3, 6, 9, 12, 15])\n",
    "ax.set_xticklabels([\"KB\", \"MB\", \"GB\", \"TB\", \"PT\"])\n",
    "ax.set_xlabel(\"Total dandiset size\")\n",
    "ax.figure.savefig(\"size.svg\", bbox_inches=\"tight\")"
   ]
  },
  {
   "cell_type": "code",
   "execution_count": 11,
   "id": "58f3942e-dcec-47d4-a335-0839b20591c2",
   "metadata": {},
   "outputs": [
    {
     "data": {
      "image/png": "[encoded data removed]",
      "text/plain": [
       "<Figure size 288x216 with 1 Axes>"
      ]
     },
     "metadata": {},
     "output_type": "display_data"
    }
   ],
   "source": [
    "fig, ax = plt.subplots(figsize=(4,3))\n",
    "\n",
    "ax.plot(df['created'], np.arange(len(df)), 'k.')\n",
    "for label in ax.get_xticklabels(which='major'):\n",
    "    label.set(rotation=30, horizontalalignment='right')\n",
    "ax.set_ylabel('# of NWB Dandisets')\n",
    "ax.set_xlabel(\"date created\")\n",
    "sns.despine()\n",
    "ax.figure.savefig(\"date.png\", bbox_inches=\"tight\", dpi=300)"
   ]
  },
  {
   "cell_type": "code",
   "execution_count": 9,
   "id": "b9be3f32-7f4c-4632-83db-b9a168eb849a",
   "metadata": {},
   "outputs": [
    {
     "data": {
      "image/png": "[encoded data removed]",
      "text/plain": [
       "<Figure size 432x288 with 1 Axes>"
      ]
     },
     "metadata": {},
     "output_type": "display_data"
    }
   ],
   "source": [
    "lognum = np.log10(df[\"numberOfSubjects\"])\n",
    "\n",
    "\n",
    "ax = lognum.plot.hist(bins=15)\n",
    "ax.set_xticks([0, 1, 2, 3])\n",
    "ax.set_xticklabels([1, 10, 100, 1000])\n",
    "ax.set_xlabel(\"number of subjects in each dandiset\")\n",
    "ax.figure.savefig(\"subjects.svg\", bbox_inches=\"tight\")"
   ]
  },
  {
   "cell_type": "code",
   "execution_count": 10,
   "id": "6081564b-20f0-46e7-becf-7779742060d9",
   "metadata": {},
   "outputs": [
    {
     "data": {
      "image/png": "[encoded data removed]",
      "text/plain": [
       "<Figure size 432x288 with 1 Axes>"
      ]
     },
     "metadata": {},
     "output_type": "display_data"
    }
   ],
   "source": [
    "lognum = np.log10(df[\"numberOfFiles\"])\n",
    "\n",
    "\n",
    "ax = lognum.plot.hist(bins=15)\n",
    "orders = np.arange(5)\n",
    "ax.set_xticks(orders)\n",
    "ax.set_xticklabels([10**x for x in orders])\n",
    "ax.set_xlabel(\"number of files in each dandiset\")\n",
    "ax.figure.savefig(\"files.svg\", bbox_inches=\"tight\")"
   ]
  },
  {
   "cell_type": "code",
   "execution_count": null,
   "id": "2feb5e3e-d5d5-4bd7-9efe-57935e442fd9",
   "metadata": {},
   "outputs": [],
   "source": [
    "df[\n",
    "    (df[\"species\"] == \"House mouse\") & \n",
    "    (df[\"numberOfSubjects\"] > 40) & \n",
    "    (df[\"ecephys\"] == True)\n",
    "][\"identifier\"]"
   ]
  },
  {
   "cell_type": "code",
   "execution_count": 14,
   "id": "0ed0ff1b-0045-41e8-bfbd-fa0913250fc1",
   "metadata": {},
   "outputs": [],
   "source": [
    "assets = list(dandiset.get_assets())"
   ]
  },
  {
   "cell_type": "code",
   "execution_count": 16,
   "id": "d3bbe2e9-11f8-487d-9c7f-8fcc57e42f69",
   "metadata": {},
   "outputs": [
    {
     "data": {
      "text/plain": [
       "{'id': 'dandiasset:f877d6b3-29a5-4b06-bc48-1207dbdf02e3',\n",
       " 'path': 'sub-120615/sub-120615_icephys.nwb',\n",
       " 'access': [{'status': 'dandi:OpenAccess', 'schemaKey': 'AccessRequirements'}],\n",
       " 'digest': {'dandi:sha2-256': '89942d66df19ce41676da51a24e8a4e04e44e39891cd8962bfa55f0f9af2db9b',\n",
       "  'dandi:dandi-etag': '6de1550fd87f31d8eeaef19b9757ad27-2'},\n",
       " '@context': 'https://raw.githubusercontent.com/dandi/schema/master/releases/0.6.3/context.json',\n",
       " 'approach': [{'name': 'electrophysiological approach',\n",
       "   'schemaKey': 'ApproachType'}],\n",
       " 'keywords': ['Whole-cell patch-clamp',\n",
       "  'Retroaxonal firing',\n",
       "  'Layer 1',\n",
       "  'Human Neocortex'],\n",
       " 'schemaKey': 'Asset',\n",
       " 'contentUrl': ['https://api.dandiarchive.org/api/assets/f877d6b3-29a5-4b06-bc48-1207dbdf02e3/download/',\n",
       "  'https://dandiarchive.s3.amazonaws.com/blobs/da2/a62/da2a6278-8435-4fc5-9bf7-031fb5749258'],\n",
       " 'identifier': 'f877d6b3-29a5-4b06-bc48-1207dbdf02e3',\n",
       " 'contentSize': 94714600,\n",
       " 'dateModified': '2022-09-29T15:53:48.624544+02:00',\n",
       " 'schemaVersion': '0.6.3',\n",
       " 'encodingFormat': 'application/x-nwb',\n",
       " 'wasGeneratedBy': [{'name': '1206152rm_5_1_4',\n",
       "   'schemaKey': 'Session',\n",
       "   'startDate': '2012-06-15T00:00:00+02:00',\n",
       "   'identifier': '1206152rm_5_1_4',\n",
       "   'description': 'RAF Human L1 interneurons'},\n",
       "  {'id': 'urn:uuid:6f88d019-16d0-4b42-9c21-569fcb444d85',\n",
       "   'name': 'Metadata generation',\n",
       "   'schemaKey': 'Activity',\n",
       "   'description': 'Metadata generated by DANDI cli',\n",
       "   'wasAssociatedWith': [{'url': 'https://github.com/dandi/dandi-cli',\n",
       "     'name': 'DANDI Command Line Interface',\n",
       "     'version': '0.46.3',\n",
       "     'schemaKey': 'Software',\n",
       "     'identifier': 'RRID:SCR_019009'}]}],\n",
       " 'wasAttributedTo': [{'age': {'value': 'P73.0Y',\n",
       "    'unitText': 'ISO-8601 duration',\n",
       "    'schemaKey': 'PropertyValue',\n",
       "    'valueReference': {'value': 'dandi:BirthReference',\n",
       "     'schemaKey': 'PropertyValue'}},\n",
       "   'sex': {'name': 'Female',\n",
       "    'schemaKey': 'SexType',\n",
       "    'identifier': 'http://purl.obolibrary.org/obo/PATO_0000383'},\n",
       "   'species': {'name': 'Homo sapiens - Human',\n",
       "    'schemaKey': 'SpeciesType',\n",
       "    'identifier': 'http://purl.obolibrary.org/obo/NCBITaxon_9606'},\n",
       "   'schemaKey': 'Participant',\n",
       "   'identifier': '120615'}],\n",
       " 'blobDateModified': '2022-09-29T15:25:24.170080+02:00',\n",
       " 'variableMeasured': [{'value': 'CurrentClampStimulusSeries',\n",
       "   'schemaKey': 'PropertyValue'},\n",
       "  {'value': 'CurrentClampSeries', 'schemaKey': 'PropertyValue'}],\n",
       " 'measurementTechnique': [{'name': 'current clamp technique',\n",
       "   'schemaKey': 'MeasurementTechniqueType'}]}"
      ]
     },
     "execution_count": 16,
     "metadata": {},
     "output_type": "execute_result"
    }
   ],
   "source": [
    "assets[0].get_raw_metadata()"
   ]
  },
  {
   "cell_type": "code",
   "execution_count": null,
   "id": "bcb53600-899d-4b57-9a9e-e68943e0b21a",
   "metadata": {},
   "outputs": [],
   "source": []
  }
 ],
 "metadata": {
  "kernelspec": {
   "display_name": "Python 3 (ipykernel)",
   "language": "python",
   "name": "python3"
  },
  "language_info": {
   "codemirror_mode": {
    "name": "ipython",
    "version": 3
   },
   "file_extension": ".py",
   "mimetype": "text/x-python",
   "name": "python",
   "nbconvert_exporter": "python",
   "pygments_lexer": "ipython3",
   "version": "3.10.6"
  }
 },
 "nbformat": 4,
 "nbformat_minor": 5
}
